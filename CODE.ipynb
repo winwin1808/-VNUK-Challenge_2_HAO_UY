{
 "cells": [
  {
   "cell_type": "code",
   "execution_count": 532,
   "source": [
    "import cv2\r\n",
    "import pandas as pd \r\n",
    "import matplotlib.pyplot as plt\r\n",
    "import glob\r\n",
    "import imutils\r\n",
    "import numpy as np\r\n",
    "import os.path\r\n",
    "os.chdir(\"D:\\LEARN\\Python\\Problemset_2\")"
   ],
   "outputs": [],
   "metadata": {}
  },
  {
   "cell_type": "code",
   "execution_count": 533,
   "source": [
    "chars = ['A', 'B', 'C', 'D', 'E']\r\n",
    "answer_per_question = 5 \r\n",
    "questions_per_part = 5\r\n",
    "total_parts = 12\r\n",
    "ques_each_side = 30\r\n",
    "total_question = 60\r\n",
    "\r\n",
    "\r\n",
    "green = (0, 255, 0) # green color\r\n",
    "red = (0, 0, 255) # red color\r\n",
    "white = (255, 255, 255) # white color\r\n",
    "\r\n",
    "width = 596\r\n",
    "height = 842"
   ],
   "outputs": [],
   "metadata": {}
  },
  {
   "cell_type": "code",
   "execution_count": 535,
   "source": [
    "img_list = list()\r\n",
    "student_data_list = list()\r\n",
    "\r\n",
    "\r\n",
    "images = [os.path.basename(x) for x in glob.glob(\"-VNUK-Challenge_2_HAO_UY/DATA/*.png\")]\r\n",
    "for name in images: \r\n",
    "  img = cv2.imread('-VNUK-Challenge_2_HAO_UY/DATA/'+ name)\r\n",
    "  img = cv2.resize(img, (width, height)) \r\n",
    "  # img = img[70:,:]\r\n",
    "  img_list.append(img)\r\n",
    "  \r\n",
    "  name = name.replace('.png', '').split('_')\r\n",
    "  student = [name[0], name[1], name[2]]\r\n",
    "  student_data_list.append(name)"
   ],
   "outputs": [
    {
     "output_type": "error",
     "ename": "TypeError",
     "evalue": "'list' object is not callable",
     "traceback": [
      "\u001b[1;31m---------------------------------------------------------------------------\u001b[0m",
      "\u001b[1;31mTypeError\u001b[0m                                 Traceback (most recent call last)",
      "\u001b[1;32m~\\AppData\\Local\\Temp/ipykernel_27752/1766838903.py\u001b[0m in \u001b[0;36m<module>\u001b[1;34m\u001b[0m\n\u001b[1;32m----> 1\u001b[1;33m \u001b[0mimg_list\u001b[0m \u001b[1;33m=\u001b[0m \u001b[0mlist\u001b[0m\u001b[1;33m(\u001b[0m\u001b[1;33m)\u001b[0m\u001b[1;33m\u001b[0m\u001b[1;33m\u001b[0m\u001b[0m\n\u001b[0m\u001b[0;32m      2\u001b[0m \u001b[0mstudent_data_list\u001b[0m \u001b[1;33m=\u001b[0m \u001b[0mlist\u001b[0m\u001b[1;33m(\u001b[0m\u001b[1;33m)\u001b[0m\u001b[1;33m\u001b[0m\u001b[1;33m\u001b[0m\u001b[0m\n\u001b[0;32m      3\u001b[0m \u001b[1;33m\u001b[0m\u001b[0m\n\u001b[0;32m      4\u001b[0m \u001b[1;33m\u001b[0m\u001b[0m\n\u001b[0;32m      5\u001b[0m \u001b[0mimages\u001b[0m \u001b[1;33m=\u001b[0m \u001b[1;33m[\u001b[0m\u001b[0mos\u001b[0m\u001b[1;33m.\u001b[0m\u001b[0mpath\u001b[0m\u001b[1;33m.\u001b[0m\u001b[0mbasename\u001b[0m\u001b[1;33m(\u001b[0m\u001b[0mx\u001b[0m\u001b[1;33m)\u001b[0m \u001b[1;32mfor\u001b[0m \u001b[0mx\u001b[0m \u001b[1;32min\u001b[0m \u001b[0mglob\u001b[0m\u001b[1;33m.\u001b[0m\u001b[0mglob\u001b[0m\u001b[1;33m(\u001b[0m\u001b[1;34m\"-VNUK-Challenge_2_HAO_UY/DATA/*.png\"\u001b[0m\u001b[1;33m)\u001b[0m\u001b[1;33m]\u001b[0m\u001b[1;33m\u001b[0m\u001b[1;33m\u001b[0m\u001b[0m\n",
      "\u001b[1;31mTypeError\u001b[0m: 'list' object is not callable"
     ]
    }
   ],
   "metadata": {}
  },
  {
   "cell_type": "code",
   "execution_count": null,
   "source": [
    "def show_images(titles, images, wait=True):\r\n",
    "    for (title, image) in zip(titles, images):\r\n",
    "        cv2.imshow(title, image)\r\n",
    "    if wait:\r\n",
    "        cv2.waitKey(0)\r\n",
    "        cv2.destroyAllWindows()"
   ],
   "outputs": [],
   "metadata": {}
  },
  {
   "cell_type": "code",
   "execution_count": null,
   "source": [
    "def threshold_img(img):\r\n",
    "  gray = cv2.cvtColor(img, cv2.COLOR_BGR2GRAY)\r\n",
    "  _, thresh = cv2.threshold(gray, 250, 255, cv2.THRESH_BINARY_INV)  \r\n",
    "  return thresh"
   ],
   "outputs": [],
   "metadata": {}
  },
  {
   "cell_type": "code",
   "execution_count": null,
   "source": [
    "def crop_per_part(img,part):\r\n",
    "  split = [0,161,241,321,401,478,558]\r\n",
    "  if 0 < part < 7:\r\n",
    "    img_crop = img[(split[part]):(split[part]+70),150:275]\r\n",
    "    return img_crop\r\n",
    "  elif 6 < part < 13:\r\n",
    "    img_crop = img[(split[part-6]):(split[part-6]+70),350:475] \r\n",
    "    return img_crop\r\n",
    "  else:\r\n",
    "    return img"
   ],
   "outputs": [],
   "metadata": {}
  },
  {
   "cell_type": "code",
   "execution_count": null,
   "source": [
    "def split_image(image):\r\n",
    "    rows = np.vsplit(image,questions_per_part)\r\n",
    "    boxes = []\r\n",
    "    for row in rows:\r\n",
    "        cols = np.hsplit(row, answer_per_question)  \r\n",
    "        for box in cols:  \r\n",
    "            boxes.append(box)\r\n",
    "    return boxes"
   ],
   "outputs": [],
   "metadata": {}
  },
  {
   "cell_type": "code",
   "execution_count": null,
   "source": [
    "def check_answer(boxes):\r\n",
    "  myPixelVal = np.zeros((questions_per_part, answer_per_question))\r\n",
    "  countC = 0\r\n",
    "  countR = 0\r\n",
    "  for image in boxes:\r\n",
    "    totalPixels = cv2.countNonZero(image)\r\n",
    "    myPixelVal[countR][countC] = totalPixels\r\n",
    "    countC += 1\r\n",
    "    if (countC == answer_per_question):\r\n",
    "      countR +=1 \r\n",
    "      countC = 0\r\n",
    "  return myPixelVal"
   ],
   "outputs": [],
   "metadata": {}
  },
  {
   "cell_type": "code",
   "execution_count": null,
   "source": [
    "def find_index(myPixelVal):\r\n",
    "  index = list()\r\n",
    "\r\n",
    "  for x in range (0,questions_per_part):\r\n",
    "    arr = myPixelVal[x]\r\n",
    "    index_value = np.where(arr == np.amax(arr))\r\n",
    "    index.append(index_value[0][0])\r\n",
    "  return index"
   ],
   "outputs": [],
   "metadata": {}
  },
  {
   "cell_type": "code",
   "execution_count": null,
   "source": [
    "def grading(index,answer):\r\n",
    "  grading = []\r\n",
    "  for x in range (0,questions_per_part):\r\n",
    "    if answer[x] == index[x]:\r\n",
    "      grading.append(1)\r\n",
    "    else:\r\n",
    "      grading.append(0)\r\n",
    "  return grading"
   ],
   "outputs": [],
   "metadata": {}
  },
  {
   "cell_type": "code",
   "execution_count": null,
   "source": [
    "def score_show(grading):\r\n",
    "  score = (sum(grading)/total_question)*10\r\n",
    "  score = \"%.2f\" % score\r\n",
    "  return score"
   ],
   "outputs": [],
   "metadata": {}
  },
  {
   "cell_type": "code",
   "execution_count": null,
   "source": [
    "def get_answer(i):\r\n",
    "  answer = cv2.imread('-VNUK-Challenge_2_HAO_UY/ANSWER/3A.png')\r\n",
    "  answer_key = []\r\n",
    "  x = 1\r\n",
    "  while x < 13:\r\n",
    "    image = crop_per_part(answer,x)\r\n",
    "    thres = threshold_img(image)\r\n",
    "    boxes = split_image (thres)\r\n",
    "    pixel_value = check_answer(boxes)\r\n",
    "    index = find_index(pixel_value)\r\n",
    "    answer_key.append(index)\r\n",
    "    x += 1  \r\n",
    "  return answer_key[i]"
   ],
   "outputs": [],
   "metadata": {}
  },
  {
   "cell_type": "code",
   "execution_count": null,
   "source": [
    "def test_graded(img_index):\r\n",
    "  int(img_index)\r\n",
    "  graded = []\r\n",
    "  # char =[]\r\n",
    "  x = 1\r\n",
    "  while x < 13:\r\n",
    "    #Total_part\r\n",
    "    answer_index = [] \r\n",
    "    image = crop_per_part(img_list[img_index],x)\r\n",
    "    thres = threshold_img(image)\r\n",
    "    boxes = split_image (thres)\r\n",
    "    pixel_value = check_answer(boxes)\r\n",
    "    index = find_index(pixel_value)\r\n",
    "    # print(index)\r\n",
    "    answer_index.append(index)\r\n",
    "    # char.append(process_chars(answer_index[0]))\r\n",
    "    answer_key = get_answer(x-1)\r\n",
    "    # print(answer_key)\r\n",
    "    # print(answer_index[0])\r\n",
    "    grade = grading(answer_index[0],answer_key)\r\n",
    "    # print(grade)\r\n",
    "    graded.append(grade)\r\n",
    "    x +=1\r\n",
    "  # process_chars(answer_index)\r\n",
    "  graded = np.concatenate(graded)\r\n",
    "  # print(graded)\r\n",
    "  score = score_show(graded)\r\n",
    "  return score"
   ],
   "outputs": [],
   "metadata": {}
  },
  {
   "cell_type": "code",
   "execution_count": null,
   "source": [
    "def process_chars(index):\r\n",
    "  char = []\r\n",
    "  for x in range (0,questions_per_part):\r\n",
    "    for y in range (0,questions_per_part):\r\n",
    "      if index[x] == y:\r\n",
    "        index[x] = chars[y]\r\n",
    "  return index "
   ],
   "outputs": [],
   "metadata": {}
  },
  {
   "cell_type": "code",
   "execution_count": null,
   "source": [
    "# Ex2: Create CSV file:\r\n",
    "df_info = pd.DataFrame(student_data_list, columns=['Student ID','Name','Test Code'])\r\n",
    "df_info.to_csv('student_INFO.csv')"
   ],
   "outputs": [],
   "metadata": {}
  },
  {
   "cell_type": "code",
   "execution_count": null,
   "source": [
    "#Ex3: Generating the first 5 answers of one student:\r\n",
    "def first_five():\r\n",
    "  char = []\r\n",
    "  answer_index = [] \r\n",
    "  thres = threshold_img(crop_per_part(img_list[0],1))\r\n",
    "  boxes = split_image (thres)\r\n",
    "  pixel_value = check_answer(boxes)\r\n",
    "  index = find_index(pixel_value)\r\n",
    "  answer_index.append(index)\r\n",
    "  char.append(process_chars(answer_index[0]))\r\n",
    "  # grade = grading(answer_index[0],get_answer(1))\r\n",
    "  # grade_.append(grade)\r\n",
    "  # answer_index = np.concatenate(answer_index)\r\n",
    "  # grade = grading(answer_index,get_answer())\r\n",
    "  # score = score_show(grade)\r\n",
    "  print('The first 5 answers of the first student:')\r\n",
    "  print(str(char))\r\n",
    "first_five()"
   ],
   "outputs": [
    {
     "output_type": "stream",
     "name": "stdout",
     "text": [
      "The first 5 answers of the first student:\n",
      "[['B', 'A', 'D', 'C', 'E']]\n"
     ]
    }
   ],
   "metadata": {}
  },
  {
   "cell_type": "code",
   "execution_count": null,
   "source": [
    "# Ex4: Generating all answers of one student:\r\n",
    "def all_answer():\r\n",
    "  char =[]\r\n",
    "  x = 1\r\n",
    "  while x < 13:\r\n",
    "    answer_index = []\r\n",
    "    thres = threshold_img(crop_per_part(img_list[0],x))\r\n",
    "    boxes = split_image (thres)\r\n",
    "    pixel_value = check_answer(boxes)\r\n",
    "    index = find_index(pixel_value)\r\n",
    "    answer_index.append(index)\r\n",
    "    char.append(process_chars(answer_index[0]))\r\n",
    "    x +=1\r\n",
    "\r\n",
    "  print('All answers of the first student:')\r\n",
    "  print(str(char))\r\n",
    "all_answer()"
   ],
   "outputs": [
    {
     "output_type": "stream",
     "name": "stdout",
     "text": [
      "All answers of the first student:\n",
      "[['B', 'A', 'D', 'C', 'E'], ['C', 'D', 'E', 'E', 'A'], ['A', 'B', 'C', 'A', 'E'], ['E', 'E', 'E', 'D', 'D'], ['C', 'A', 'B', 'A', 'A'], ['D', 'A', 'B', 'B', 'B'], ['C', 'D', 'B', 'E', 'E'], ['D', 'A', 'C', 'C', 'C'], ['C', 'C', 'D', 'B', 'C'], ['E', 'E', 'D', 'D', 'C'], ['B', 'B', 'C', 'C', 'E'], ['C', 'C', 'B', 'B', 'C']]\n"
     ]
    }
   ],
   "metadata": {}
  },
  {
   "cell_type": "code",
   "execution_count": null,
   "source": [
    "#Ex5: Generating grading.csv\r\n",
    "def correct_questions():\r\n",
    "  all_score = list()\r\n",
    "  for i in range (0,len(img_list)):     \r\n",
    "    all_score.append(test_graded(i))\r\n",
    "  return all_score  \r\n",
    "\r\n",
    "def grading_csv():\r\n",
    "  correct = correct_questions()\r\n",
    "  df_Score = pd.DataFrame({'Score':correct})\r\n",
    "  df_ID = pd.DataFrame({'Student ID':df_info['Student ID']})\r\n",
    "  frame = [df_ID,df_Score]\r\n",
    "  grading = pd.concat(frame,axis=1)\r\n",
    "  grading.to_csv('grading.csv')\r\n",
    "grading_csv()"
   ],
   "outputs": [],
   "metadata": {}
  },
  {
   "cell_type": "code",
   "execution_count": null,
   "source": [
    "#Ex7: Generating the final result (pass/fail) of the class\r\n",
    "conv_correct_questions = [float(x) for x in correct_questions()]\r\n",
    "\r\n",
    "def final_result():\r\n",
    "  all_result = list()\r\n",
    "  for i in range (0,len(img_list)):\r\n",
    "    if conv_correct_questions[i]>8:\r\n",
    "      all_result.append('Pass')\r\n",
    "    else:\r\n",
    "      all_result.append('Fail')\r\n",
    "  return all_result\r\n",
    "\r\n",
    "def result_csv():\r\n",
    "  correct = correct_questions()\r\n",
    "  result = final_result()\r\n",
    "  df_Result = pd.DataFrame(result, columns=['Result'])\r\n",
    "  df_Score = pd.DataFrame({'Score':correct})\r\n",
    "  frame = [df_info, df_Score, df_Result]\r\n",
    "  df_final = pd.concat(frame,axis=1)\r\n",
    "  df_final.to_csv('Final Result.csv')\r\n",
    "result_csv()"
   ],
   "outputs": [],
   "metadata": {}
  },
  {
   "cell_type": "code",
   "execution_count": null,
   "source": [
    "img = crop_per_part(img_list[0],part = 4)\r\n",
    "boxes = split_image (img)\r\n",
    "cv2.imshow('Test',img)\r\n",
    "cv2.imshow('image',img_list[8])\r\n",
    "cv2.waitKey(0)"
   ],
   "outputs": [
    {
     "output_type": "execute_result",
     "data": {
      "text/plain": [
       "-1"
      ]
     },
     "metadata": {},
     "execution_count": 530
    }
   ],
   "metadata": {}
  }
 ],
 "metadata": {
  "orig_nbformat": 4,
  "language_info": {
   "name": "python",
   "version": "3.9.0",
   "mimetype": "text/x-python",
   "codemirror_mode": {
    "name": "ipython",
    "version": 3
   },
   "pygments_lexer": "ipython3",
   "nbconvert_exporter": "python",
   "file_extension": ".py"
  },
  "kernelspec": {
   "name": "python3",
   "display_name": "Python 3.9.0 64-bit"
  },
  "interpreter": {
   "hash": "122d820ec5ee9d7c4897e63a93a2865e0cf595184c97c2c83b28cebf89d17afe"
  }
 },
 "nbformat": 4,
 "nbformat_minor": 2
}